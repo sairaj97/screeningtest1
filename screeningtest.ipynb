{
 "cells": [
  {
   "cell_type": "raw",
   "id": "3f63dfa1",
   "metadata": {},
   "source": [
    "1. Create a function in python to read the text file and replace specific content of the file."
   ]
  },
  {
   "cell_type": "code",
   "execution_count": 1,
   "id": "7f37f6a3",
   "metadata": {},
   "outputs": [],
   "source": [
    "def rep(search_text, replace_text):\n",
    "    \n",
    "    \"\"\"Function to read the text file and replace specific content of the file.\"\"\"\n",
    "    \n",
    "    with open(r'example.txt', 'r') as file:\n",
    "        data = file.read()\n",
    "        data = data.replace(search_text, replace_text)\n",
    "    with open(r'example.txt', 'w') as file:\n",
    "        file.write(data)\n",
    "    print(\"Content replaced\")"
   ]
  },
  {
   "cell_type": "code",
   "execution_count": 2,
   "id": "8522668a",
   "metadata": {},
   "outputs": [
    {
     "name": "stdout",
     "output_type": "stream",
     "text": [
      "Content replaced\n"
     ]
    }
   ],
   "source": [
    "rep(\"placement\",\"screening\")"
   ]
  },
  {
   "cell_type": "raw",
   "id": "01224a8e",
   "metadata": {},
   "source": [
    "2. Demonstrate use of abstract class, multiple inheritance and decorator in python using examples."
   ]
  },
  {
   "cell_type": "raw",
   "id": "6c934b9d",
   "metadata": {},
   "source": [
    "Solution:"
   ]
  },
  {
   "cell_type": "raw",
   "id": "0d615f34",
   "metadata": {},
   "source": [
    "(i) Use of Abstract class in python:\n",
    "\n",
    "Abstract class:\n",
    "\n",
    "In object-oriented programming, an abstract class is a class that cannot be instantiated. However, we can create classes that inherit from an abstract class. We use an abstract class to create a blueprint for other classes.\n",
    "Python doesn’t directly support abstract classes. But it does offer a module that allows to define abstract classes.\n",
    "\n",
    "To define an abstract class, abc (abstract base class) module is used.\n",
    "\n",
    "The abc module provides the infrastructure for defining abstract base classes.\n",
    "For example:    "
   ]
  },
  {
   "cell_type": "code",
   "execution_count": 3,
   "id": "3287fc23",
   "metadata": {},
   "outputs": [],
   "source": [
    "from abc import ABC\n",
    "\n",
    "class AbstractClassName(ABC):\n",
    "    pass"
   ]
  },
  {
   "cell_type": "raw",
   "id": "e866d83e",
   "metadata": {},
   "source": [
    "ABC works by decorating methods of the base class as abstract and then registering concrete classes as implementations of the abstract base. A method becomes abstract when decorated with the keyword @abstractmethod. \n",
    "For Example – We are going to used Abstract class and method for showing different specifications of different types of quadrilaterals."
   ]
  },
  {
   "cell_type": "code",
   "execution_count": 16,
   "id": "eae0bbe7",
   "metadata": {},
   "outputs": [
    {
     "name": "stdout",
     "output_type": "stream",
     "text": [
      "Square has all sides equal and all angles having measure 90 degrees\n",
      "It has 4 sides and 4 angles\n",
      "Rectangle has opposite sides equal and all angles having measure 90 degrees\n",
      "It has 4 sides and 4 angles\n",
      "Parallelogram has opposite sides equal and sum of adjacent angles is equal to 180 degrees\n",
      "It has 4 sides and 4 angles\n"
     ]
    }
   ],
   "source": [
    "from abc import ABC, abstractmethod\n",
    "\n",
    "class Quadrilateral(ABC):\n",
    "\n",
    "    @abstractmethod\n",
    "    def specifications(self):\n",
    "        pass\n",
    "    \n",
    "    def sides(self1):\n",
    "        print(\"It has 4 sides and 4 angles\")\n",
    "\n",
    "class Square(Quadrilateral):\n",
    "    def specifications(self):\n",
    "        print(\"Square has all sides equal and all angles having measure 90 degrees\")\n",
    "\n",
    "class Rectangle(Quadrilateral):\n",
    "    def specifications(self):\n",
    "        print(\"Rectangle has opposite sides equal and all angles having measure 90 degrees\")\n",
    "\n",
    "class Parallelogram(Quadrilateral):\n",
    "    def specifications(self):\n",
    "        print(\"Parallelogram has opposite sides equal and sum of adjacent angles is equal to 180 degrees\")\n",
    "\n",
    "        \n",
    "\n",
    "S = Square()\n",
    "S.specifications()\n",
    "S.sides()\n",
    "\n",
    "R = Rectangle()\n",
    "R.specifications()\n",
    "R.sides()\n",
    "\n",
    "P = Parallelogram()\n",
    "P.specifications()\n",
    "P.sides()"
   ]
  },
  {
   "cell_type": "raw",
   "id": "25d57f7c",
   "metadata": {},
   "source": [
    "(ii) Use of multiple inheritance in python:\n",
    "\n",
    "Inheritance is the mechanism to achieve the re-usability of code as one class(child class) can derive the properties of another class(parent class). It also provides transitivity ie. if class C inherits from P then all the sub-classes of C would also inherit from P.\n",
    "\n",
    "Multiple Inheritance: \n",
    "When a class is derived from more than one base class it is called multiple Inheritance. The derived class inherits all the features of the base case.\n",
    "\n",
    "Syntax:\n",
    "\n",
    "Class Base1:\n",
    "     Body of the class\n",
    "\n",
    "Class Base2:\n",
    "     Body of the class\n",
    "\n",
    "Class Derived(Base1, Base2):\n",
    "     Body of the class\n",
    "     \n",
    "Example of using multiple inheritance is given below.\n",
    "I have made a calculator like program using multiple inheritance where different methods are define in different parent classes and child class calci is derived from that parent classes so that we can get all methods in calci class."
   ]
  },
  {
   "cell_type": "code",
   "execution_count": 21,
   "id": "2283a3e5",
   "metadata": {},
   "outputs": [],
   "source": [
    "class parent1:\n",
    "    def addition(self,a,b):\n",
    "        return a+b\n",
    "    def subtraction(self,a,b):\n",
    "        return a-b\n",
    "    \n",
    "class parent2:\n",
    "    def multiplication(self,a,b):\n",
    "        return a*b\n",
    "    def division(self,a,b):\n",
    "        return a/b\n",
    "    \n",
    "class parent3:\n",
    "    def square(self,a):\n",
    "        return a**2\n",
    "    def cube(self,a):\n",
    "        return a**3\n",
    "        \n",
    "    \n",
    "class calci(parent1, parent2, parent3):\n",
    "    def functions(self):\n",
    "        print(\"It has 6 functions -> addition, subtraction, multiplication, division, square, cube\")"
   ]
  },
  {
   "cell_type": "code",
   "execution_count": 22,
   "id": "d1f0fdef",
   "metadata": {},
   "outputs": [],
   "source": [
    "calci = calci()"
   ]
  },
  {
   "cell_type": "code",
   "execution_count": 23,
   "id": "8b6d364e",
   "metadata": {},
   "outputs": [
    {
     "name": "stdout",
     "output_type": "stream",
     "text": [
      "It has 6 functions -> addition, subtraction, multiplication, division, square, cube\n"
     ]
    }
   ],
   "source": [
    "calci.functions()"
   ]
  },
  {
   "cell_type": "code",
   "execution_count": 24,
   "id": "b8b67212",
   "metadata": {},
   "outputs": [
    {
     "data": {
      "text/plain": [
       "7"
      ]
     },
     "execution_count": 24,
     "metadata": {},
     "output_type": "execute_result"
    }
   ],
   "source": [
    "calci.addition(3,4)"
   ]
  },
  {
   "cell_type": "code",
   "execution_count": 25,
   "id": "06ecb820",
   "metadata": {},
   "outputs": [
    {
     "data": {
      "text/plain": [
       "4"
      ]
     },
     "execution_count": 25,
     "metadata": {},
     "output_type": "execute_result"
    }
   ],
   "source": [
    "calci.subtraction(10,6)"
   ]
  },
  {
   "cell_type": "code",
   "execution_count": 26,
   "id": "07ba37fa",
   "metadata": {},
   "outputs": [
    {
     "data": {
      "text/plain": [
       "14"
      ]
     },
     "execution_count": 26,
     "metadata": {},
     "output_type": "execute_result"
    }
   ],
   "source": [
    "calci.multiplication(2,7)"
   ]
  },
  {
   "cell_type": "code",
   "execution_count": 27,
   "id": "03dd06f1",
   "metadata": {},
   "outputs": [
    {
     "data": {
      "text/plain": [
       "216"
      ]
     },
     "execution_count": 27,
     "metadata": {},
     "output_type": "execute_result"
    }
   ],
   "source": [
    "calci.cube(6)"
   ]
  },
  {
   "cell_type": "raw",
   "id": "7c3086a6",
   "metadata": {},
   "source": [
    "(iii) Use of decorators in python:\n",
    "\n",
    "Decorators are an elegant way to extend functionality of our original functions without altering their source code.\n",
    "Example - In below program we are using decorator to repeat the funtion call as many times we want."
   ]
  },
  {
   "cell_type": "code",
   "execution_count": 86,
   "id": "f16bb4ff",
   "metadata": {},
   "outputs": [],
   "source": [
    "# creating decorater \n",
    "def repeat(n):\n",
    "    def decorator_repeat(func):\n",
    "        for i in range(n):\n",
    "            func()\n",
    "    return decorator_repeat\n"
   ]
  },
  {
   "cell_type": "code",
   "execution_count": 87,
   "id": "e895b86e",
   "metadata": {},
   "outputs": [
    {
     "name": "stdout",
     "output_type": "stream",
     "text": [
      "Hello world\n",
      "Hello world\n",
      "Hello world\n",
      "Hello world\n",
      "Hello world\n"
     ]
    }
   ],
   "source": [
    "# function to calculate m**n\n",
    "@repeat(n=5)\n",
    "def power():\n",
    "    print(\"Hello world\")\n",
    "    "
   ]
  },
  {
   "cell_type": "raw",
   "id": "842d2149",
   "metadata": {},
   "source": [
    "In below example for decorators, we are using Flask to set up a /secret web page that should only be visible to users that are logged in or otherwise authenticated:"
   ]
  },
  {
   "cell_type": "code",
   "execution_count": 93,
   "id": "e32813a1",
   "metadata": {},
   "outputs": [],
   "source": [
    "from flask import Flask, g, request, redirect, url_for\n",
    "import functools\n",
    "app = Flask(__name__)\n",
    "\n",
    "def login_required(func):\n",
    "    \"\"\"Make sure user is logged in before proceeding\"\"\"\n",
    "    @functools.wraps(func)\n",
    "    def wrapper_login_required(*args, **kwargs):\n",
    "        if g.user is None:\n",
    "            return redirect(url_for(\"login\", next=request.url))\n",
    "        return func(*args, **kwargs)\n",
    "    return wrapper_login_required\n",
    " \n",
    "@app.route(\"/secret\")\n",
    "@login_required\n",
    "def secret():\n",
    "    pass"
   ]
  }
 ],
 "metadata": {
  "kernelspec": {
   "display_name": "Python 3 (ipykernel)",
   "language": "python",
   "name": "python3"
  },
  "language_info": {
   "codemirror_mode": {
    "name": "ipython",
    "version": 3
   },
   "file_extension": ".py",
   "mimetype": "text/x-python",
   "name": "python",
   "nbconvert_exporter": "python",
   "pygments_lexer": "ipython3",
   "version": "3.9.7"
  }
 },
 "nbformat": 4,
 "nbformat_minor": 5
}
